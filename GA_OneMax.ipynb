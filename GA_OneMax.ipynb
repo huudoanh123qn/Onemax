{
  "cells": [
    {
      "cell_type": "code",
      "metadata": {
        "id": "iwC7tH7bqbtC",
        "colab_type": "code",
        "colab": {}
      },
      "source": [
        "import numpy as np"
      ],
      "execution_count": 0,
      "outputs": []
    },
    {
      "cell_type": "code",
      "metadata": {
        "id": "mcVcG_kIqbtG",
        "colab_type": "code",
        "colab": {}
      },
      "source": [
        "def initialize_population( num_individuals, num_variables ):\n",
        "    \"\"\"\n",
        "    Khởi tạo quần thể gồm num_individuals cá thể. Mỗi cá thể có num_parameters biến.\n",
        "    \n",
        "    Arguments:\n",
        "    num_individuals -- Số lượng cá thể\n",
        "    num_variables -- Số lượng biến\n",
        "    \n",
        "    Returns:\n",
        "    \u001dpop -- Ma trận (num_individuals, num_variables\u001d) chứa quần thể mới được khởi tạo ngẫu nhiên.\n",
        "    \"\"\"\n",
        "    \n",
        "    ### BẮT ĐẦU CODE TỪ ĐÂY ### \n",
        "    pop = np.random.randint(2, size=(num_individuals, num_variables))\n",
        "    \n",
        "    ### DỪNG CODE TẠI ĐÂY ###\n",
        "    \n",
        "    return pop"
      ],
      "execution_count": 0,
      "outputs": []
    },
    {
      "cell_type": "code",
      "metadata": {
        "id": "6Nkb_6X9qbtM",
        "colab_type": "code",
        "colab": {}
      },
      "source": [
        "def onemax( ind ):\n",
        "    \"\"\"\n",
        "    Hàm đánh giá OneMax: Đếm số bit 1 trong chuỗi nhị phân (cá thể ind).\n",
        "    \n",
        "    Arguments:\n",
        "    \u001dind -- Cá thể cần được đánh giá.\n",
        "\n",
        "    Returns:\n",
        "    \u001dvalue -- Giá trị của cá thể ind.\n",
        "    \"\"\"\n",
        "    \n",
        "    ### BẮT ĐẦU CODE TỪ ĐÂY ###     \n",
        "    value = np.sum(ind)\n",
        "    \n",
        "    ### DỪNG CODE TẠI ĐÂY ###\n",
        "    \n",
        "    return value"
      ],
      "execution_count": 0,
      "outputs": []
    },
    {
      "cell_type": "code",
      "metadata": {
        "id": "3TjbHqDzqbtQ",
        "colab_type": "code",
        "colab": {}
      },
      "source": [
        "def trapone(ind, k):\n",
        "    value = 0\n",
        "    u = np.sum(ind)\n",
        "    if u < k:\n",
        "        value = k - 1 - u\n",
        "    elif u == k:\n",
        "        value = u\n",
        "        \n",
        "    return value"
      ],
      "execution_count": 0,
      "outputs": []
    },
    {
      "cell_type": "code",
      "metadata": {
        "scrolled": false,
        "id": "LbKM-5fNqbtT",
        "colab_type": "code",
        "outputId": "765d6a95-7e27-4c36-bb74-3911ac845d7c",
        "colab": {}
      },
      "source": [
        "print(trapone([1, 0, 1, 1, 0], 5))"
      ],
      "execution_count": 0,
      "outputs": [
        {
          "output_type": "stream",
          "text": [
            "1\n"
          ],
          "name": "stdout"
        }
      ]
    },
    {
      "cell_type": "code",
      "metadata": {
        "id": "eume_iqtqbtV",
        "colab_type": "code",
        "colab": {}
      },
      "source": [
        "def evaluate_population( pop ):\n",
        "    \"\"\"\n",
        "    Hàm đánh giá tất cả cá thể trong quần thể.\n",
        "    \n",
        "    Arguments:\n",
        "    \u001d\u001dpop -- Quàn thể cần được đánh giá.\n",
        "\n",
        "    Returns:\n",
        "    \u001dvalues -- Giá trị của tất cả các cá thể trong quần thể.\n",
        "    \"\"\" \n",
        "\n",
        "    ### BẮT ĐẦU CODE TỪ ĐÂY ### \n",
        "    values = list(map(onemax, pop))\n",
        "    \n",
        "    ### DỪNG CODE TẠI ĐÂY ###\n",
        "    \n",
        "    return values"
      ],
      "execution_count": 0,
      "outputs": []
    },
    {
      "cell_type": "code",
      "metadata": {
        "id": "GY_Vc1CYqbtX",
        "colab_type": "code",
        "outputId": "f6ced132-c25a-4791-a431-75d6cadec9db",
        "colab": {}
      },
      "source": [
        "p = initialize_population(4, 8)\n",
        "print(p)\n",
        "print(evaluate_population(p))"
      ],
      "execution_count": 0,
      "outputs": [
        {
          "output_type": "stream",
          "text": [
            "[[0 0 0 0 1 0 0 0]\n",
            " [0 0 1 1 1 1 0 0]\n",
            " [0 1 0 1 0 1 0 0]\n",
            " [0 0 0 0 1 0 0 0]]\n",
            "[1, 4, 3, 1]\n"
          ],
          "name": "stdout"
        }
      ]
    },
    {
      "cell_type": "code",
      "metadata": {
        "id": "oNNmIiNSqbtZ",
        "colab_type": "code",
        "outputId": "cf0a66f0-ca2a-4e1f-dee8-41928889781d",
        "colab": {}
      },
      "source": [
        "print((evaluate_population(p)))"
      ],
      "execution_count": 0,
      "outputs": [
        {
          "output_type": "stream",
          "text": [
            "[2]\n"
          ],
          "name": "stdout"
        }
      ]
    },
    {
      "cell_type": "code",
      "metadata": {
        "id": "Bc3vQPSkqbtc",
        "colab_type": "code",
        "colab": {}
      },
      "source": [
        "def better_fitness( fitness_1, fitness_2, maximization=True ):\n",
        "    \"\"\"\n",
        "    Hàm so sánh độ thích nghi của 2 cá thể.\n",
        "    \n",
        "    Arguments:\n",
        "    \u001d\u001dfitness_1 -- Độ thích nghi của cá thể 1.\n",
        "    fitness_2 -- Độ thích nghi của cá thể 2.\n",
        "    maximization -- Biến boolean cho biết bài toán đang giải thuộc dạng tối đa hoá (mặc định) hay không\n",
        "    \n",
        "    Returns:\n",
        "    \u001dTrue nếu fitness_1 tốt hơn fitness_2. Ngược lại, trả về False.\n",
        "    \"\"\"\n",
        "    \n",
        "    if maximization:\n",
        "        if fitness_1 > fitness_2:\n",
        "            return True\n",
        "    else:\n",
        "        if fitness_1 < fitness_2:\n",
        "            return True\n",
        "        \n",
        "    return False"
      ],
      "execution_count": 0,
      "outputs": []
    },
    {
      "cell_type": "code",
      "metadata": {
        "id": "lbMJjeL9qbth",
        "colab_type": "code",
        "colab": {}
      },
      "source": [
        "def tournament_selection( pop, pop_fitness, selection_size, tournament_size = 4):\n",
        "    \"\"\"\n",
        "    Hàm chọn lọc cạnh tranh.\n",
        "    \n",
        "    Arguments:\n",
        "    \u001dpop -- Quần thể để thực hiện phép chọn lọc.\n",
        "    pop_fitness -- Mảng 1 chiều chứa giá trị (độ thích nghi) của từng cá thể trong quần thể.\n",
        "    selection_size -- Số lượng cá thể \u001dsẽ được chọn.\n",
        "    tournament_size -- Kích thước của tournament: Số lượng các cá thể được so sánh với nhau mỗi lần.\n",
        "    \n",
        "    Returns:\n",
        "    selected_indices -- Chỉ số của những cá thể trong quần thể pop được chọn. Chỉ số có thể được lặp lại.\n",
        "    \"\"\"\n",
        "    \n",
        "    ### BẮT ĐẦU CODE TỪ ĐÂY ### \n",
        "    num_individuals = len(pop)\n",
        "    indices = np.array(range(num_individuals))\n",
        "    selected_indices = []\n",
        "    \n",
        "    while len(selected_indices) < selection_size:\n",
        "        # Đảo ngẫu nhiên thứ tự các cá thể trong quần thể.\n",
        "        np.random.shuffle(indices)\n",
        "        for i in range(0, num_individuals, tournament_size):\n",
        "            max = pop_fitness[indices[i]]\n",
        "            max_i = indices[i]\n",
        "            tournament_range = indices[i: i + tournament_size]\n",
        "            for j in tournament_range:\n",
        "                if pop_fitness[j] > max:\n",
        "                    max = pop_fitness[j]\n",
        "                    max_i = j\n",
        "            selected_indices.append(max_i)\n",
        "        \n",
        "    ### DỪNG CODE TẠI ĐÂY ###\n",
        "    \n",
        "    return selected_indices"
      ],
      "execution_count": 0,
      "outputs": []
    },
    {
      "cell_type": "code",
      "metadata": {
        "scrolled": true,
        "id": "mf83IMhvqbtj",
        "colab_type": "code",
        "outputId": "a3a36ff9-8aef-475c-e33b-2891ebc18f25",
        "colab": {}
      },
      "source": [
        "pop = initialize_population(8,12)\n",
        "print(pop)\n",
        "pop_fitness = evaluate_population(pop)\n",
        "print(pop_fitness)\n",
        "print(tournament_selection(pop,pop_fitness, 4, 4))"
      ],
      "execution_count": 0,
      "outputs": [
        {
          "output_type": "stream",
          "text": [
            "[[1 0 1 1 0 0 1 1 0 1 0 1]\n",
            " [0 1 1 0 0 1 0 0 0 0 0 1]\n",
            " [1 0 0 1 1 1 1 0 1 0 1 0]\n",
            " [0 1 0 1 0 1 0 0 0 0 1 0]\n",
            " [0 1 1 1 1 1 0 0 0 1 0 1]\n",
            " [1 0 1 1 0 0 1 1 0 1 1 1]\n",
            " [1 0 1 0 0 0 0 0 1 0 0 0]\n",
            " [0 1 0 0 1 0 1 1 0 1 0 1]]\n",
            "[7, 4, 7, 4, 7, 8, 3, 6]\n",
            "[0, 5, 5, 2]\n"
          ],
          "name": "stdout"
        }
      ]
    },
    {
      "cell_type": "code",
      "metadata": {
        "id": "e8FkByBJqbtk",
        "colab_type": "code",
        "colab": {}
      },
      "source": [
        "def variation( pop ):\n",
        "    \"\"\"\n",
        "    Hàm biến đổi tạo ra các cá thể con.\n",
        "    \n",
        "    Arguments:\n",
        "    \u001d\u001dpop -- Quàn thể hiện tại.\n",
        "\n",
        "    Returns:\n",
        "    \u001d\u001doffspring -- Quần thể chứa các cá thể con được sinh ra.\n",
        "    \"\"\"  \n",
        "    \n",
        "    ### BẮT ĐẦU CODE TỪ ĐÂY ### \n",
        "    num_individuals = len(pop)\n",
        "    num_parameters = len(pop[0])\n",
        "    indices = np.array(range(num_individuals))\n",
        "    # Đảo ngẫu nhiên thứ tự các cá thể trong quần thể\n",
        "    np.random.shuffle(indices)\n",
        "    offspring = []\n",
        "    \n",
        "    for i in range(0, num_individuals, 2):\n",
        "        idx1 = indices[i]\n",
        "        idx2 = indices[i+1]\n",
        "        offspring1 = list(pop[idx1])\n",
        "        offspring2 = list(pop[idx2])\n",
        "        \n",
        "        # Cài đặt phép lai đồng nhất uniform crossover. \n",
        "        # Không cần cài đặt đột biến mutation.\n",
        "        random_arr = np.random.rand(1, num_parameters)\n",
        "        \n",
        "        for j in range(num_parameters):\n",
        "            if random_arr[0][j] < 0.5:\n",
        "                temp = offspring1[j]\n",
        "                offspring1[j] = offspring2[j]\n",
        "                offspring2[j] = temp\n",
        "\n",
        "        offspring.append(offspring1)\n",
        "        offspring.append(offspring2)\n",
        "\n",
        "\n",
        "    ### DỪNG CODE TẠI ĐÂY ###\n",
        "    \n",
        "    offspring = np.array(offspring)\n",
        "    return offspring"
      ],
      "execution_count": 0,
      "outputs": []
    },
    {
      "cell_type": "code",
      "metadata": {
        "id": "gMqsnqGzqbtm",
        "colab_type": "code",
        "colab": {}
      },
      "source": [
        "pop = initialize_population(8,12)\n",
        "print(pop)\n",
        "print(variation(pop))"
      ],
      "execution_count": 0,
      "outputs": []
    },
    {
      "cell_type": "code",
      "metadata": {
        "id": "495s5Q-Lqbto",
        "colab_type": "code",
        "colab": {}
      },
      "source": [
        "def propability (pop):\n",
        "    p_arr = []\n",
        "    \n",
        "    num_invidiuals = len(pop)\n",
        "    num_para = len(pop[0])\n",
        "    for j in range(num_para): \n",
        "        sum = 0\n",
        "        for i in range(num_invidiuals):\n",
        "            sum += pop[i][j]\n",
        "        p_arr.append(sum / num_invidiuals)\n",
        "    \n",
        "    return p_arr"
      ],
      "execution_count": 0,
      "outputs": []
    },
    {
      "cell_type": "code",
      "metadata": {
        "id": "tEez7Ng7qbtr",
        "colab_type": "code",
        "colab": {}
      },
      "source": [
        "pop = initialize_population(8,12)\n",
        "print(pop)\n",
        "print(propability(pop))"
      ],
      "execution_count": 0,
      "outputs": []
    },
    {
      "cell_type": "code",
      "metadata": {
        "id": "EykPtZtsqbtv",
        "colab_type": "code",
        "colab": {}
      },
      "source": [
        "def generate ( model ):\n",
        "    new_model = []\n",
        "    num_variables = len(model)\n",
        "    random_arr = np.random.rand(1, num_variables)\n",
        "    for i in range(num_variables):\n",
        "        if ((random_arr[0, i]) <= (model[i])):\n",
        "            new_model.append(1)\n",
        "        else:\n",
        "            new_model.append(0)\n",
        "    return new_model"
      ],
      "execution_count": 0,
      "outputs": []
    },
    {
      "cell_type": "code",
      "metadata": {
        "id": "NFyHdau4qbtx",
        "colab_type": "code",
        "colab": {}
      },
      "source": [
        "pop = initialize_population(8,12)\n",
        "print(pop)\n",
        "p = propability(pop)\n",
        "print(generate(p))"
      ],
      "execution_count": 0,
      "outputs": []
    },
    {
      "cell_type": "code",
      "metadata": {
        "id": "5OHXDBrHqbty",
        "colab_type": "code",
        "colab": {}
      },
      "source": [
        "def generate_new_pop(pop, num):\n",
        "    new_pop = []\n",
        "    for i in range(num):\n",
        "        new_pop.append(generate(pop))\n",
        "    new_pop = np.array(new_pop)\n",
        "    return new_pop"
      ],
      "execution_count": 0,
      "outputs": []
    },
    {
      "cell_type": "code",
      "metadata": {
        "id": "HgagSJQSqbt0",
        "colab_type": "code",
        "colab": {}
      },
      "source": [
        "pop = initialize_population(8,12)\n",
        "print(pop)\n",
        "p = propability(pop)\n",
        "print(generate_new_pop(p, 4))"
      ],
      "execution_count": 0,
      "outputs": []
    },
    {
      "cell_type": "code",
      "metadata": {
        "id": "i_Ve5oNpqbt4",
        "colab_type": "code",
        "colab": {}
      },
      "source": [
        "def popop(num_individuals, num_parameters, num_generations):\n",
        "    \"\"\"\n",
        "    Hàm cài đặt thuật giải di truyền theo các bước P->O->(P+O)->P\n",
        "    \n",
        "    Arguments:\n",
        "    \u001d\u001dnum_individuals -- Số lượng cá thể trong quần thể.\n",
        "    num_parameters -- Số lượng biến.\n",
        "    num_generations -- Số thế hệ thuật toán sẽ chạy.\n",
        "\n",
        "    Returns:\n",
        "    In ra quần thể ở thế hệ cuối cùng và giá trị của từng cá thể.\n",
        "    \"\"\" \n",
        "\n",
        "    ### BẮT ĐẦU CODE TỪ ĐÂY ### \n",
        "    # Khởi tạo quần thể\n",
        "    pop = initialize_population(num_individuals,num_parameters)\n",
        "    pop_fitness = evaluate_population(pop)\n",
        "    print(\"#Gen 0:\")\n",
        "    print(pop_fitness)\n",
        "    \n",
        "    # Sử dụng tournament_size 4 và selection_size là bằng kích thước quần thể\n",
        "    selection_size = len(pop)\n",
        "    tournament_size = 4\n",
        "\n",
        "    for i in range(num_generations):\n",
        "        # Tạo ra các cá thể con và đánh giá chúng\n",
        "        offspring = variation(pop)\n",
        "        offspring_fitness = evaluate_population(offspring)\n",
        "        \n",
        "        # Tạo ra quần thể pool gồm quần thể hiện tại pop và offspring\n",
        "        pool = np.vstack((pop,offspring))\n",
        "        pool_fitness = np.hstack((pop_fitness, offspring_fitness))\n",
        "\n",
        "        # Thực hiện tournament selection trên quần thể pool \n",
        "        pool_indices = tournament_selection(pool,pool_fitness,selection_size,tournament_size)\n",
        "\n",
        "        # Thay thế quần thể hiện tại bằng những cá thể được chọn ra từ pool.\n",
        "        pop = pool[pool_indices, :]\n",
        "        pop_fitness = pool_fitness[pool_indices]\n",
        "        print(\"#Gen {}:\".format(i+1))\n",
        "        print(pop_fitness)\n",
        "\n",
        "    ### DỪNG CODE TẠI ĐÂY ###\n",
        "    print(\"#Result:\")\n",
        "    print(pop)\n",
        "    print(pop_fitness)"
      ],
      "execution_count": 0,
      "outputs": []
    },
    {
      "cell_type": "code",
      "metadata": {
        "id": "nMaVGXotqbt8",
        "colab_type": "code",
        "colab": {}
      },
      "source": [
        "def umda_popop(num_individuals, num_parameters, num_generations):\n",
        "    \"\"\"\n",
        "    Hàm cài đặt thuật giải di truyền theo các bước P->O->(P+O)->P\n",
        "    \n",
        "    Arguments:\n",
        "    \u001d\u001dnum_individuals -- Số lượng cá thể trong quần thể.\n",
        "    num_parameters -- Số lượng biến.\n",
        "    num_generations -- Số thế hệ thuật toán sẽ chạy.\n",
        "\n",
        "    Returns:\n",
        "    In ra quần thể ở thế hệ cuối cùng và giá trị của từng cá thể.\n",
        "    \"\"\" \n",
        "\n",
        "    ### BẮT ĐẦU CODE TỪ ĐÂY ### \n",
        "    # Khởi tạo quần thể\n",
        "    pop = initialize_population(num_individuals,num_parameters)\n",
        "    pop_fitness = evaluate_population(pop)\n",
        "    print(\"#Gen 0:\")\n",
        "    print(pop_fitness)\n",
        "    \n",
        "    # Sử dụng tournament_size 4 và selection_size là bằng kích thước quần thể\n",
        "    selection_size = len(pop)\n",
        "    tournament_size = 4\n",
        "\n",
        "    for i in range(num_generations):\n",
        "        # Tạo ra các cá thể con và đánh giá chúng\n",
        "        p = propability(pop)\n",
        "        offspring = generate_new_pop(p, num_individuals)\n",
        "        offspring_fitness = evaluate_population(offspring)\n",
        "        \n",
        "        # Tạo ra quần thể pool gồm quần thể hiện tại pop và offspring\n",
        "        pool = np.vstack((pop,offspring))\n",
        "        pool_fitness = np.hstack((pop_fitness, offspring_fitness))\n",
        "\n",
        "        # Thực hiện tournament selection trên quần thể pool \n",
        "        pool_indices = tournament_selection(pool,pool_fitness,selection_size,tournament_size)\n",
        "\n",
        "        # Thay thế quần thể hiện tại bằng những cá thể được chọn ra từ pool.\n",
        "        pop = pool[pool_indices, :]\n",
        "        pop_fitness = pool_fitness[pool_indices]\n",
        "        print(\"#Gen {}:\".format(i+1))\n",
        "        print(pop_fitness)\n",
        "\n",
        "    \n",
        "    ### DỪNG CODE TẠI ĐÂY ###\n",
        "    print(\"#Result:\")\n",
        "    print(pop)\n",
        "    print(pop_fitness)"
      ],
      "execution_count": 0,
      "outputs": []
    },
    {
      "cell_type": "code",
      "metadata": {
        "id": "rHR-Bm1jqbuQ",
        "colab_type": "code",
        "colab": {}
      },
      "source": [
        ""
      ],
      "execution_count": 0,
      "outputs": []
    }
  ],
  "metadata": {
    "anaconda-cloud": {},
    "kernelspec": {
      "display_name": "Python 3",
      "language": "python",
      "name": "python3"
    },
    "language_info": {
      "codemirror_mode": {
        "name": "ipython",
        "version": 3
      },
      "file_extension": ".py",
      "mimetype": "text/x-python",
      "name": "python",
      "nbconvert_exporter": "python",
      "pygments_lexer": "ipython3",
      "version": "3.7.3"
    },
    "colab": {
      "name": "GA-OneMax.ipynb",
      "provenance": [],
      "collapsed_sections": []
    }
  },
  "nbformat": 4,
  "nbformat_minor": 0
}